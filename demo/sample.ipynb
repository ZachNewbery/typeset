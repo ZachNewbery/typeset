{
 "cells": [
  {
   "cell_type": "markdown",
   "metadata": {},
   "source": [
    "# _typeset_: A GAP Package automating typesetting for common GAP objects\n",
    "\n",
    "This Jupyter notebook goes through some of the work and functionality implemented as part of the 'typeset' GAP package, that aims to provide an automated framework for converting objects within GAP into typesettable (LaTeX) strings. Primarily, it implemented a function Typeset(x), where x can be a variety of objects within the GAP language. \n",
    "\n",
    "It can be installed with the following:"
   ]
  },
  {
   "cell_type": "code",
   "execution_count": 60,
   "metadata": {
    "scrolled": true
   },
   "outputs": [
    {
     "data": {
      "text/plain": [
       "true"
      ]
     },
     "execution_count": 59,
     "metadata": {
      "text/plain": ""
     },
     "output_type": "execute_result"
    },
    {
     "data": {
      "text/plain": [
       "true"
      ]
     },
     "execution_count": 60,
     "metadata": {
      "text/plain": ""
     },
     "output_type": "execute_result"
    }
   ],
   "source": [
    "LoadPackage(\"digraphs\"); LoadPackage(\"typeset\");"
   ]
  },
  {
   "cell_type": "markdown",
   "metadata": {},
   "source": [
    "## Simple Types\n",
    "_typeset_ supports a number of basic types in the GAP language, including but not limited to:\n",
    "\n",
    "- fractions\n",
    "- rationals\n",
    "- infinity\n",
    "- permutations\n",
    "- finite field elements\n",
    "\n",
    "Some basic examples are included below. First, a simple fraction:"
   ]
  },
  {
   "cell_type": "code",
   "execution_count": 62,
   "metadata": {},
   "outputs": [
    {
     "name": "stdout",
     "output_type": "stream",
     "text": [
      "#I  Generating options record from default parameters\n",
      "\\frac{3}{4}\n"
     ]
    }
   ],
   "source": [
    "x := 3 / 4;; Typeset(x);"
   ]
  },
  {
   "cell_type": "markdown",
   "metadata": {},
   "source": [
    "Which looks like $\\frac{3}{4}$ when rendered in LaTeX. Similarly, for a finite field element:"
   ]
  },
  {
   "cell_type": "code",
   "execution_count": 64,
   "metadata": {},
   "outputs": [
    {
     "name": "stdout",
     "output_type": "stream",
     "text": [
      "#I  Generating options record from default parameters\n",
      "Z(2^{10})^{7}\n"
     ]
    }
   ],
   "source": [
    "y := Z(2^10)^7;; Typeset(y);"
   ]
  },
  {
   "cell_type": "markdown",
   "metadata": {},
   "source": [
    "Which will look like $\\textrm Z(2^{10})^{7}$. Some nice macros, like infinity, are also supported:"
   ]
  },
  {
   "cell_type": "code",
   "execution_count": 66,
   "metadata": {},
   "outputs": [
    {
     "name": "stdout",
     "output_type": "stream",
     "text": [
      "#I  Generating options record from default parameters\n",
      "-\\infty\n"
     ]
    }
   ],
   "source": [
    "z := -infinity;; Typeset(z);"
   ]
  },
  {
   "cell_type": "markdown",
   "metadata": {},
   "source": [
    "Which will result in $-\\infty$ when rendered in LaTeX."
   ]
  },
  {
   "cell_type": "markdown",
   "metadata": {},
   "source": [
    "## Matrices\n",
    "_typeset_ also supports matrices, which typically look something like:\n",
    "\n",
    "<br></br>\n",
    "\n",
    "<center>$\\left(\\begin{array}{rr}\n",
    "1 & 2 \\\\\n",
    "2 & 3 \\\\\n",
    "\\end{array}\\right)$</center>"
   ]
  },
  {
   "cell_type": "markdown",
   "metadata": {},
   "source": [
    "In GAP, a Matrix will normally be created using something like:"
   ]
  },
  {
   "cell_type": "code",
   "execution_count": 67,
   "metadata": {
    "scrolled": false
   },
   "outputs": [
    {
     "data": {
      "text/plain": [
       "[ [ 1, 3, 5 ], [ 2, 7, 7 ] ]"
      ]
     },
     "execution_count": 67,
     "metadata": {
      "text/plain": ""
     },
     "output_type": "execute_result"
    }
   ],
   "source": [
    "m := [[1, 3, 5], [2, 7, 7]];"
   ]
  },
  {
   "cell_type": "markdown",
   "metadata": {},
   "source": [
    "Then, when calling the method Typeset implemented in this package, we get:"
   ]
  },
  {
   "cell_type": "code",
   "execution_count": 68,
   "metadata": {
    "scrolled": false
   },
   "outputs": [
    {
     "name": "stdout",
     "output_type": "stream",
     "text": [
      "#I  Generating options record from default parameters\n",
      "\\left(\\begin{array}{rrr}\n",
      "1 & 3 & 5 \\\\\n",
      "2 & 7 & 7 \\\\\n",
      "\\end{array}\\right)\n"
     ]
    }
   ],
   "source": [
    "Typeset(m);"
   ]
  },
  {
   "cell_type": "markdown",
   "metadata": {},
   "source": [
    "Which looks like the following in LaTeX:\n",
    "\n",
    "<center>$\\left(\\begin{array}{rrr}\n",
    "1 & 3 & 5 \\\\\n",
    "2 & 7 & 7 \\\\\n",
    "\\end{array}\\right)$</center>"
   ]
  },
  {
   "cell_type": "markdown",
   "metadata": {},
   "source": [
    "Matrices also don't necessarily need to contain simple numbers (integers). They can also contain a variety of the other simple types supported. For example, we could have a matrix of finite-field elements:"
   ]
  },
  {
   "cell_type": "code",
   "execution_count": 70,
   "metadata": {},
   "outputs": [
    {
     "name": "stdout",
     "output_type": "stream",
     "text": [
      "#I  Generating options record from default parameters\n",
      "\\left(\\begin{array}{rrr}\n",
      "Z(3)^{0} & Z(3)^{0} & Z(3) \\\\\n",
      "Z(3) & 0 \\times Z(3) & Z(3) \\\\\n",
      "0 \\times Z(3) & Z(3) & 0 \\times Z(3) \\\\\n",
      "\\end{array}\\right)\n"
     ]
    }
   ],
   "source": [
    "x := [ [ Z(3)^0, Z(3)^0, Z(3) ], [ Z(3), 0*Z(3), Z(3) ], [ 0*Z(3), Z(3), 0*Z(3) ] ];; Typeset(x);"
   ]
  },
  {
   "cell_type": "markdown",
   "metadata": {},
   "source": [
    "Which results in:\n",
    "\n",
    "<center>$\\left(\\begin{array}{rrr}\n",
    "Z(3)^{0} & Z(3)^{0} & Z(3) \\\\\n",
    "Z(3) & 0 \\times Z(3) & Z(3) \\\\\n",
    "0 \\times Z(3) & Z(3) & 0 \\times Z(3) \\\\\n",
    "\\end{array}\\right)$</center>"
   ]
  },
  {
   "cell_type": "markdown",
   "metadata": {},
   "source": [
    "Additionally, you can customise matrices for certain purposes. For example, you may want the matrix to be surrounded by angled brackets instead. For this, you can set options within the call to Typeset, specifying customisations you want:"
   ]
  },
  {
   "cell_type": "code",
   "execution_count": 72,
   "metadata": {},
   "outputs": [
    {
     "name": "stdout",
     "output_type": "stream",
     "text": [
      "#I  Generating options record from default parameters\n",
      "\\left\\langle\\begin{array}{rrr}\n",
      "\\frac{1}{3} & 5 & 4 \\\\\n",
      "5 & 1 & \\frac{1}{3} \\\\\n",
      "0 & \\frac{3}{5} & 1 \\\\\n",
      "\\end{array}\\right\\rangle\n"
     ]
    }
   ],
   "source": [
    "x := [[ 1/3, 5, 4 ], [ 5, 1, 1/3 ], [ 0, 3/5, 1 ]];; Typeset(x : LDelim := \"<\", RDelim := \">\" );"
   ]
  },
  {
   "cell_type": "markdown",
   "metadata": {},
   "source": [
    "Which gives us the nice-looking matrix:\n",
    "\n",
    "<center>$\\left\\langle\\begin{array}{rrr}\n",
    "\\frac{1}{3} & 5 & 4 \\\\\n",
    "5 & 1 & \\frac{1}{3} \\\\\n",
    "0 & \\frac{3}{5} & 1 \\\\\n",
    "\\end{array}\\right\\rangle$</center>"
   ]
  },
  {
   "cell_type": "markdown",
   "metadata": {},
   "source": [
    "## Rational Functions\n",
    "Another interesting type in GAP supported by _typeset_ is rational functions. In essence, these are equations containing several numbers, as well as some unknown variables (e.g. x, y). Within GAP, we can specify these unknown variables as 'Indeterminates', and use them to construct these rational functions. For example, if we wanted a simple quadratic we could do:"
   ]
  },
  {
   "cell_type": "code",
   "execution_count": 75,
   "metadata": {},
   "outputs": [
    {
     "name": "stdout",
     "output_type": "stream",
     "text": [
      "#I  Generating options record from default parameters\n",
      "x_{1}^{2}+2x_{1}+3\n"
     ]
    }
   ],
   "source": [
    "x := Indeterminate(Rationals, 1);; f := x^2 + 2 * x + 3;; Typeset(f);"
   ]
  },
  {
   "cell_type": "markdown",
   "metadata": {},
   "source": [
    "Which will give us the following when typeset:\n",
    "<center>$x_{1}^{2}+2x_{1}+3$</center>"
   ]
  },
  {
   "cell_type": "markdown",
   "metadata": {},
   "source": [
    "This can also be extended to more complex rational functions, such as ones with multiple unknowns, or ones which have fractions as well:"
   ]
  },
  {
   "cell_type": "code",
   "execution_count": 77,
   "metadata": {},
   "outputs": [],
   "source": [
    "x := Indeterminate(Rationals, 1);; y := Indeterminate(Rationals, 1);;"
   ]
  },
  {
   "cell_type": "code",
   "execution_count": 79,
   "metadata": {},
   "outputs": [],
   "source": [
    "f := x^2 + 2 * x + 3;; g := y^2 + 4 * y - 12;;"
   ]
  },
  {
   "cell_type": "code",
   "execution_count": 80,
   "metadata": {},
   "outputs": [
    {
     "name": "stdout",
     "output_type": "stream",
     "text": [
      "#I  Generating options record from default parameters\n",
      "\\frac{x_{1}^{2}+2x_{1}+3}{x_{1}^{2}+4x_{1}-12}\n"
     ]
    }
   ],
   "source": [
    "Typeset(f / g);"
   ]
  },
  {
   "cell_type": "markdown",
   "metadata": {},
   "source": [
    "Giving us the much more readable version in LaTeX of:\n",
    "\n",
    "<center>$\\frac{x_{1}^{2}+2x_{1}+3}{x_{1}^{2}+4x_{1}-12}$</center>"
   ]
  },
  {
   "cell_type": "markdown",
   "metadata": {},
   "source": [
    "## Character Tables\n",
    "Another interesting type that support was written for in typeset was character\n",
    "tables. In summary, these are tabular representations of an underlying group\n",
    "used to store information about attributes calculated through application of\n",
    "theories defined in what is known as character theory.\n",
    "\n",
    "Fortunately, GAP allows a lot of abstraction over the creation of such character tables – simply allows them to be created from the underlying group. For example, they can be made like:"
   ]
  },
  {
   "cell_type": "code",
   "execution_count": 81,
   "metadata": {},
   "outputs": [],
   "source": [
    "c := CharacterTable(SymmetricGroup(3));;"
   ]
  },
  {
   "cell_type": "markdown",
   "metadata": {},
   "source": [
    "And calling Typeset on this table results in:"
   ]
  },
  {
   "cell_type": "code",
   "execution_count": 82,
   "metadata": {},
   "outputs": [
    {
     "name": "stdout",
     "output_type": "stream",
     "text": [
      "#I  Generating options record from default parameters\n",
      "#I  To use the gather* LaTeX environment in character tables, add the amsmath package to your premable \\usepackage{amsmath}\n",
      "\\begin{gather*}\n",
      "\\begin{array}{c c c c}\n",
      " & 1a & 2a & 3a \\\\\n",
      "X.1 & 1 & -1 & 1 \\\\\n",
      "X.2 & 2 & . & -1 \\\\\n",
      "X.3 & 1 & 1 & 1 \\\\\n",
      "\\end{array}\n",
      "\\end{gather*}\n"
     ]
    }
   ],
   "source": [
    "Typeset(c);"
   ]
  },
  {
   "cell_type": "markdown",
   "metadata": {},
   "source": [
    "Visually, this looks like:\n",
    "<center>$\\begin{gather*}\n",
    "\\begin{array}{c c c c}\n",
    " & 1a & 2a & 3a \\\\\n",
    "X.1 & 1 & -1 & 1 \\\\\n",
    "X.2 & 2 & . & -1 \\\\\n",
    "X.3 & 1 & 1 & 1 \\\\\n",
    "\\end{array}\n",
    "\\end{gather*}$</center>"
   ]
  },
  {
   "cell_type": "markdown",
   "metadata": {},
   "source": [
    "More complex character tables are also supported, such as that for the alternating group:"
   ]
  },
  {
   "cell_type": "code",
   "execution_count": 84,
   "metadata": {},
   "outputs": [
    {
     "name": "stdout",
     "output_type": "stream",
     "text": [
      "#I  Generating options record from default parameters\n",
      "#I  To use the gather* LaTeX environment in character tables, add the amsmath package to your premable \\usepackage{amsmath}\n",
      "#I  To use the aligned LaTeX environment in table legends, add the amsmath package to your premable \\usepackage{amsmath}\n",
      "\\begin{gather*}\n",
      "\\begin{array}{c c c c c}\n",
      " & 1a & 2a & 3a & 3b \\\\\n",
      "X.1 & 1 & 1 & 1 & 1 \\\\\n",
      "X.2 & 1 & 1 & A & \\bar{A} \\\\\n",
      "X.3 & 1 & 1 & \\bar{A} & A \\\\\n",
      "X.4 & 3 & -1 & . & . \\\\\n",
      "\\end{array}\\\\\n",
      "\\begin{aligned}\n",
      "A &= E(3)^2 \\\\\n",
      " &= (-1-Sqrt(-3))/2 = -1-b3 \\\\\n",
      "\\end{aligned}\n",
      "\\end{gather*}\n"
     ]
    }
   ],
   "source": [
    "c := CharacterTable(AlternatingGroup(4));; Typeset(c);"
   ]
  },
  {
   "cell_type": "markdown",
   "metadata": {},
   "source": [
    "Which looks like:\n",
    "\n",
    "<center>$\\begin{gather*}\n",
    "\\begin{array}{c c c c c}\n",
    " & 1a & 2a & 3a & 3b \\\\\n",
    "X.1 & 1 & 1 & 1 & 1 \\\\\n",
    "X.2 & 1 & 1 & A & \\bar{A} \\\\\n",
    "X.3 & 1 & 1 & \\bar{A} & A \\\\\n",
    "X.4 & 3 & -1 & . & . \\\\\n",
    "\\end{array}\\\\\n",
    "\\begin{aligned}\n",
    "A &= E(3)^2 \\\\\n",
    " &= (-1-Sqrt(-3))/2 = -1-b3 \\\\\n",
    "\\end{aligned}\n",
    "\\end{gather*}$</center>"
   ]
  },
  {
   "cell_type": "markdown",
   "metadata": {},
   "source": [
    "## Generator Notation for Groups\n",
    "An important concept in group theory is, of course, groups. One representation of groups is called generator notation, and is essentially a tuple/list of elements from which all elements within a group can be generated (hence the name). For instance, a person could want to define a matrix group using generator notation, in which case they would specify the basic matrices needed to define the group:"
   ]
  },
  {
   "cell_type": "code",
   "execution_count": 88,
   "metadata": {},
   "outputs": [],
   "source": [
    "m1 := [ [ 1, 0 ], [ 3, 3 ] ];; m2 := [ [ 4, 0 ], [ -1, 5 ] ];; m3 := [ [ 7, 0 ], [ 9, 1 ] ];; g := Group( m1, m2, m3 );;"
   ]
  },
  {
   "cell_type": "markdown",
   "metadata": {},
   "source": [
    "Now, they can call Typeset to format the group in generator notation:"
   ]
  },
  {
   "cell_type": "code",
   "execution_count": 89,
   "metadata": {},
   "outputs": [
    {
     "name": "stdout",
     "output_type": "stream",
     "text": [
      "#I  Generating options record from default parameters\n",
      "\\left\\langle \\left(\\begin{array}{rr}\n",
      "1 & 0 \\\\\n",
      "3 & 3 \\\\\n",
      "\\end{array}\\right),\\left(\\begin{array}{rr}\n",
      "4 & 0 \\\\\n",
      "-1 & 5 \\\\\n",
      "\\end{array}\\right),\\left(\\begin{array}{rr}\n",
      "7 & 0 \\\\\n",
      "9 & 1 \\\\\n",
      "\\end{array}\\right) \\right\\rangle\n"
     ]
    }
   ],
   "source": [
    "Typeset(g);"
   ]
  },
  {
   "cell_type": "markdown",
   "metadata": {},
   "source": [
    "This looks like:\n",
    "<center>$\\left\\langle \\left(\\begin{array}{rr}\n",
    "1 & 0 \\\\\n",
    "3 & 3 \\\\\n",
    "\\end{array}\\right),\\left(\\begin{array}{rr}\n",
    "4 & 0 \\\\\n",
    "-1 & 5 \\\\\n",
    "\\end{array}\\right),\\left(\\begin{array}{rr}\n",
    "7 & 0 \\\\\n",
    "9 & 1 \\\\\n",
    "\\end{array}\\right) \\right\\rangle$</center>"
   ]
  },
  {
   "cell_type": "markdown",
   "metadata": {},
   "source": [
    "Similarly, another type of group for which this notation is useful is finite-presented (FP) groups. An example creation (and typesetting) of one is:"
   ]
  },
  {
   "cell_type": "code",
   "execution_count": 92,
   "metadata": {},
   "outputs": [
    {
     "name": "stdout",
     "output_type": "stream",
     "text": [
      "#I  Generating options record from default parameters\n",
      "\\left\\langle a,b \\mid a^{5},b^{2} \\right\\rangle\n"
     ]
    }
   ],
   "source": [
    "f := FreeGroup( \"a\", \"b\" );; g := f / [ f.1^5, f.2^2];; Typeset(g);"
   ]
  },
  {
   "cell_type": "markdown",
   "metadata": {},
   "source": [
    "And in LaTeX:\n",
    "<center>$\\left\\langle a,b \\mid a^{5},b^{2} \\right\\rangle\n",
    "$</center>"
   ]
  },
  {
   "cell_type": "markdown",
   "metadata": {},
   "source": [
    "## Structure Descriptions\n",
    "A third notation used for groups is known as structure descriptions, concise string representations of a group."
   ]
  },
  {
   "cell_type": "code",
   "execution_count": null,
   "metadata": {},
   "outputs": [],
   "source": []
  },
  {
   "cell_type": "code",
   "execution_count": null,
   "metadata": {},
   "outputs": [],
   "source": []
  },
  {
   "cell_type": "code",
   "execution_count": null,
   "metadata": {},
   "outputs": [],
   "source": []
  },
  {
   "cell_type": "code",
   "execution_count": 93,
   "metadata": {},
   "outputs": [],
   "source": [
    "SetInfoLevel(InfoTypeset, 3);"
   ]
  },
  {
   "cell_type": "code",
   "execution_count": null,
   "metadata": {},
   "outputs": [],
   "source": []
  },
  {
   "cell_type": "code",
   "execution_count": 94,
   "metadata": {},
   "outputs": [],
   "source": [
    "g := Digraph([[1, 2], [3, 2], [3, 4], [4, 2], [4, 1]]);;"
   ]
  },
  {
   "cell_type": "code",
   "execution_count": 95,
   "metadata": {},
   "outputs": [
    {
     "name": "stdout",
     "output_type": "stream",
     "text": [
      "#I  Generating options record from default parameters\n",
      "#I  Could not find installed typesetting method for object filter, falling back to ViewString()\n",
      "<immutable digraph with 5 vertices, 10 edges>\n"
     ]
    }
   ],
   "source": [
    "Typeset(g : DigraphOut := \"dot2tex\");"
   ]
  },
  {
   "cell_type": "code",
   "execution_count": 96,
   "metadata": {},
   "outputs": [
    {
     "name": "stdout",
     "output_type": "stream",
     "text": [
      "#I  Generating options record from default parameters\n",
      "#I  Could not find installed typesetting method for object filter, falling back to ViewString()\n",
      "[ [ [ 2 ] ] ]\n"
     ]
    }
   ],
   "source": [
    "Typeset([[[2]]]);"
   ]
  }
 ],
 "metadata": {
  "kernelspec": {
   "display_name": "GAP 4",
   "language": "gap",
   "name": "gap-4"
  },
  "language_info": {
   "codemirror_mode": "gap",
   "file_extension": ".g",
   "mimetype": "text/x-gap",
   "name": "GAP 4",
   "nbconvert_exporter": "",
   "pygments_lexer": "gap",
   "version": "4.11.1"
  }
 },
 "nbformat": 4,
 "nbformat_minor": 2
}
